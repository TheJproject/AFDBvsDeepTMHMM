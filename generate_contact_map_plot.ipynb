{
 "cells": [
  {
   "cell_type": "code",
   "execution_count": 62,
   "metadata": {},
   "outputs": [],
   "source": [
    "from bioservices import UniProt\n",
    "import regex as re\n",
    "import io\n",
    "import pandas as pd\n",
    "import mdtraj as md\n",
    "import matplotlib.pyplot as plt\n",
    "from contact_map import ContactFrequency, ContactDifference"
   ]
  },
  {
   "cell_type": "code",
   "execution_count": 63,
   "metadata": {},
   "outputs": [],
   "source": [
    "protein_code = 'A6NDD5'"
   ]
  },
  {
   "cell_type": "code",
   "execution_count": 64,
   "metadata": {},
   "outputs": [
    {
     "name": "stdout",
     "output_type": "stream",
     "text": [
      ">sp|A6NDD5|SYN1L_HUMAN Synapse differentiation-inducing gene protein 1-like OS=Homo sapiens OX=9606 GN=SYNDIG1L PE=3 SV=1\n",
      "MESLSELQNPLLPRSPAHLHGPYPYPETPPSWSCQEKLYSYLLGGAGPAGAHQLLDPGSL\n",
      "QLAVEAWYRPSCLLGRDKVKEPRAGSCETSFTEDREPQEGPPEQPTGPGQAAENVTIQTV\n",
      "SYGVQEELRDQEDDQEEEESDATSTESESEDNFLTLPPRDHLGLTLFSMLCCFWPLGIAA\n",
      "FYFSQGTSKAISKGDFRLASTTSRRALFLATLAIAVGAGLYVAVVVALAAYMSQNGHG\n",
      "\n"
     ]
    }
   ],
   "source": [
    "u = UniProt(verbose=False)\n",
    "\n",
    "gff = u.search('accession:%s'%protein_code, frmt='gff')\n",
    "fasta = u.search('accession:%s'%protein_code, frmt='fasta')\n",
    "print(fasta)\n",
    "searchlines = io.StringIO(gff)\n",
    "gff_df = pd.read_csv(\n",
    "    searchlines, \n",
    "    sep=\"\\t\", \n",
    "    header=None,\n",
    "    comment=\"#\", \n",
    "    names=(\"seqname\", \"source\", \"feature\", \"start\",\n",
    "           \"end\", \"score\", \"strand\", \"frame\", \"attribute\", 'other'),\n",
    ")\n",
    "\n",
    "gff_df_attrib = gff_df['attribute'].str.split(pat=\";\",expand=True)\n",
    "gff_df_full = pd.concat([gff_df.drop(columns=['attribute', 'other']), gff_df_attrib],axis=1)\n",
    "fast_seq = u.get_fasta_sequence(protein_code)"
   ]
  },
  {
   "cell_type": "code",
   "execution_count": 65,
   "metadata": {},
   "outputs": [
    {
     "data": {
      "text/plain": [
       "0     ID=PRO_0000332725;Note=Synapse differentiation...\n",
       "1     Note=Extracellular;Ontology_term=ECO:0000255;e...\n",
       "2     Note=Helical;Ontology_term=ECO:0000255;evidenc...\n",
       "3     Note=Cytoplasmic;Ontology_term=ECO:0000255;evi...\n",
       "4     Note=Helical;Ontology_term=ECO:0000255;evidenc...\n",
       "5     Note=Extracellular;Ontology_term=ECO:0000255;e...\n",
       "6     Note=Disordered;Ontology_term=ECO:0000256;evid...\n",
       "7     Note=Disordered;Ontology_term=ECO:0000256;evid...\n",
       "8     Note=Disordered;Ontology_term=ECO:0000256;evid...\n",
       "9     Note=Basic and acidic residues;Ontology_term=E...\n",
       "10    Note=Acidic residues;Ontology_term=ECO:0000256...\n",
       "Name: attribute, dtype: object"
      ]
     },
     "execution_count": 65,
     "metadata": {},
     "output_type": "execute_result"
    }
   ],
   "source": [
    "gff_df['attribute']"
   ]
  },
  {
   "cell_type": "code",
   "execution_count": 66,
   "metadata": {},
   "outputs": [
    {
     "data": {
      "text/html": [
       "<div>\n",
       "<style scoped>\n",
       "    .dataframe tbody tr th:only-of-type {\n",
       "        vertical-align: middle;\n",
       "    }\n",
       "\n",
       "    .dataframe tbody tr th {\n",
       "        vertical-align: top;\n",
       "    }\n",
       "\n",
       "    .dataframe thead th {\n",
       "        text-align: right;\n",
       "    }\n",
       "</style>\n",
       "<table border=\"1\" class=\"dataframe\">\n",
       "  <thead>\n",
       "    <tr style=\"text-align: right;\">\n",
       "      <th></th>\n",
       "      <th>seqname</th>\n",
       "      <th>source</th>\n",
       "      <th>feature</th>\n",
       "      <th>start</th>\n",
       "      <th>end</th>\n",
       "      <th>score</th>\n",
       "      <th>strand</th>\n",
       "      <th>frame</th>\n",
       "      <th>Note</th>\n",
       "      <th>Ontology_term</th>\n",
       "      <th>Evidence</th>\n",
       "    </tr>\n",
       "  </thead>\n",
       "  <tbody>\n",
       "    <tr>\n",
       "      <th>0</th>\n",
       "      <td>A6NDD5</td>\n",
       "      <td>UniProtKB</td>\n",
       "      <td>Chain</td>\n",
       "      <td>1</td>\n",
       "      <td>238</td>\n",
       "      <td>.</td>\n",
       "      <td>.</td>\n",
       "      <td>.</td>\n",
       "      <td>NaN</td>\n",
       "      <td>NaN</td>\n",
       "      <td>NaN</td>\n",
       "    </tr>\n",
       "    <tr>\n",
       "      <th>1</th>\n",
       "      <td>A6NDD5</td>\n",
       "      <td>UniProtKB</td>\n",
       "      <td>Topological domain</td>\n",
       "      <td>1</td>\n",
       "      <td>162</td>\n",
       "      <td>.</td>\n",
       "      <td>.</td>\n",
       "      <td>.</td>\n",
       "      <td>Extracellular</td>\n",
       "      <td>ECO:0000255</td>\n",
       "      <td>NaN</td>\n",
       "    </tr>\n",
       "    <tr>\n",
       "      <th>2</th>\n",
       "      <td>A6NDD5</td>\n",
       "      <td>UniProtKB</td>\n",
       "      <td>Transmembrane</td>\n",
       "      <td>163</td>\n",
       "      <td>183</td>\n",
       "      <td>.</td>\n",
       "      <td>.</td>\n",
       "      <td>.</td>\n",
       "      <td>Helical</td>\n",
       "      <td>ECO:0000255</td>\n",
       "      <td>NaN</td>\n",
       "    </tr>\n",
       "    <tr>\n",
       "      <th>3</th>\n",
       "      <td>A6NDD5</td>\n",
       "      <td>UniProtKB</td>\n",
       "      <td>Topological domain</td>\n",
       "      <td>184</td>\n",
       "      <td>205</td>\n",
       "      <td>.</td>\n",
       "      <td>.</td>\n",
       "      <td>.</td>\n",
       "      <td>Cytoplasmic</td>\n",
       "      <td>ECO:0000255</td>\n",
       "      <td>NaN</td>\n",
       "    </tr>\n",
       "    <tr>\n",
       "      <th>4</th>\n",
       "      <td>A6NDD5</td>\n",
       "      <td>UniProtKB</td>\n",
       "      <td>Transmembrane</td>\n",
       "      <td>206</td>\n",
       "      <td>226</td>\n",
       "      <td>.</td>\n",
       "      <td>.</td>\n",
       "      <td>.</td>\n",
       "      <td>Helical</td>\n",
       "      <td>ECO:0000255</td>\n",
       "      <td>NaN</td>\n",
       "    </tr>\n",
       "    <tr>\n",
       "      <th>5</th>\n",
       "      <td>A6NDD5</td>\n",
       "      <td>UniProtKB</td>\n",
       "      <td>Topological domain</td>\n",
       "      <td>227</td>\n",
       "      <td>238</td>\n",
       "      <td>.</td>\n",
       "      <td>.</td>\n",
       "      <td>.</td>\n",
       "      <td>Extracellular</td>\n",
       "      <td>ECO:0000255</td>\n",
       "      <td>NaN</td>\n",
       "    </tr>\n",
       "    <tr>\n",
       "      <th>6</th>\n",
       "      <td>A6NDD5</td>\n",
       "      <td>UniProtKB</td>\n",
       "      <td>Region</td>\n",
       "      <td>1</td>\n",
       "      <td>29</td>\n",
       "      <td>.</td>\n",
       "      <td>.</td>\n",
       "      <td>.</td>\n",
       "      <td>Disordered</td>\n",
       "      <td>ECO:0000256</td>\n",
       "      <td>NaN</td>\n",
       "    </tr>\n",
       "    <tr>\n",
       "      <th>7</th>\n",
       "      <td>A6NDD5</td>\n",
       "      <td>UniProtKB</td>\n",
       "      <td>Region</td>\n",
       "      <td>83</td>\n",
       "      <td>111</td>\n",
       "      <td>.</td>\n",
       "      <td>.</td>\n",
       "      <td>.</td>\n",
       "      <td>Disordered</td>\n",
       "      <td>ECO:0000256</td>\n",
       "      <td>NaN</td>\n",
       "    </tr>\n",
       "    <tr>\n",
       "      <th>8</th>\n",
       "      <td>A6NDD5</td>\n",
       "      <td>UniProtKB</td>\n",
       "      <td>Region</td>\n",
       "      <td>127</td>\n",
       "      <td>154</td>\n",
       "      <td>.</td>\n",
       "      <td>.</td>\n",
       "      <td>.</td>\n",
       "      <td>Disordered</td>\n",
       "      <td>ECO:0000256</td>\n",
       "      <td>NaN</td>\n",
       "    </tr>\n",
       "    <tr>\n",
       "      <th>9</th>\n",
       "      <td>A6NDD5</td>\n",
       "      <td>UniProtKB</td>\n",
       "      <td>Compositional bias</td>\n",
       "      <td>83</td>\n",
       "      <td>100</td>\n",
       "      <td>.</td>\n",
       "      <td>.</td>\n",
       "      <td>.</td>\n",
       "      <td>Basic and acidic residues</td>\n",
       "      <td>ECO:0000256</td>\n",
       "      <td>NaN</td>\n",
       "    </tr>\n",
       "    <tr>\n",
       "      <th>10</th>\n",
       "      <td>A6NDD5</td>\n",
       "      <td>UniProtKB</td>\n",
       "      <td>Compositional bias</td>\n",
       "      <td>129</td>\n",
       "      <td>146</td>\n",
       "      <td>.</td>\n",
       "      <td>.</td>\n",
       "      <td>.</td>\n",
       "      <td>Acidic residues</td>\n",
       "      <td>ECO:0000256</td>\n",
       "      <td>NaN</td>\n",
       "    </tr>\n",
       "  </tbody>\n",
       "</table>\n",
       "</div>"
      ],
      "text/plain": [
       "   seqname     source             feature  start  end score strand frame  \\\n",
       "0   A6NDD5  UniProtKB               Chain      1  238     .      .     .   \n",
       "1   A6NDD5  UniProtKB  Topological domain      1  162     .      .     .   \n",
       "2   A6NDD5  UniProtKB       Transmembrane    163  183     .      .     .   \n",
       "3   A6NDD5  UniProtKB  Topological domain    184  205     .      .     .   \n",
       "4   A6NDD5  UniProtKB       Transmembrane    206  226     .      .     .   \n",
       "5   A6NDD5  UniProtKB  Topological domain    227  238     .      .     .   \n",
       "6   A6NDD5  UniProtKB              Region      1   29     .      .     .   \n",
       "7   A6NDD5  UniProtKB              Region     83  111     .      .     .   \n",
       "8   A6NDD5  UniProtKB              Region    127  154     .      .     .   \n",
       "9   A6NDD5  UniProtKB  Compositional bias     83  100     .      .     .   \n",
       "10  A6NDD5  UniProtKB  Compositional bias    129  146     .      .     .   \n",
       "\n",
       "                         Note Ontology_term Evidence  \n",
       "0                         NaN           NaN      NaN  \n",
       "1               Extracellular   ECO:0000255      NaN  \n",
       "2                     Helical   ECO:0000255      NaN  \n",
       "3                 Cytoplasmic   ECO:0000255      NaN  \n",
       "4                     Helical   ECO:0000255      NaN  \n",
       "5               Extracellular   ECO:0000255      NaN  \n",
       "6                  Disordered   ECO:0000256      NaN  \n",
       "7                  Disordered   ECO:0000256      NaN  \n",
       "8                  Disordered   ECO:0000256      NaN  \n",
       "9   Basic and acidic residues   ECO:0000256      NaN  \n",
       "10            Acidic residues   ECO:0000256      NaN  "
      ]
     },
     "execution_count": 66,
     "metadata": {},
     "output_type": "execute_result"
    }
   ],
   "source": [
    "import re\n",
    "gff_df['Note'] = gff_df['attribute'].str.extract(r'Note\\=(.*?)\\;')\n",
    "gff_df['Ontology_term'] = gff_df['attribute'].str.extract(r'Ontology_term\\=(.*?)\\;')\n",
    "gff_df['Evidence'] = gff_df['attribute'].str.extract(r'evidence\\=(.*?)\\;')\n",
    "gff_df.drop(columns=['attribute', 'other'],inplace=True)\n",
    "gff_df"
   ]
  },
  {
   "cell_type": "code",
   "execution_count": 67,
   "metadata": {},
   "outputs": [
    {
     "data": {
      "text/plain": [
       "True"
      ]
     },
     "execution_count": 67,
     "metadata": {},
     "output_type": "execute_result"
    }
   ],
   "source": [
    "gff_df['feature'].str.contains('Transmembrane').any()\n"
   ]
  },
  {
   "cell_type": "code",
   "execution_count": 68,
   "metadata": {},
   "outputs": [
    {
     "data": {
      "text/plain": [
       "2    NaN\n",
       "4    NaN\n",
       "Name: Evidence, dtype: object"
      ]
     },
     "execution_count": 68,
     "metadata": {},
     "output_type": "execute_result"
    }
   ],
   "source": [
    "gff_df[gff_df['feature']=='Transmembrane']['Evidence']"
   ]
  },
  {
   "cell_type": "code",
   "execution_count": 69,
   "metadata": {},
   "outputs": [
    {
     "data": {
      "text/plain": [
       "False"
      ]
     },
     "execution_count": 69,
     "metadata": {},
     "output_type": "execute_result"
    }
   ],
   "source": [
    "gff_df[gff_df['feature']=='Transmembrane']['Evidence'].any()\n"
   ]
  },
  {
   "cell_type": "code",
   "execution_count": 70,
   "metadata": {},
   "outputs": [
    {
     "name": "stderr",
     "output_type": "stream",
     "text": [
      "c:\\tools\\miniconda3\\lib\\site-packages\\mdtraj\\formats\\pdb\\pdbfile.py:200: UserWarning: Unlikely unit cell vectors detected in PDB file likely resulting from a dummy CRYST1 record. Discarding unit cell vectors.\n",
      "  warnings.warn('Unlikely unit cell vectors detected in PDB file likely '\n"
     ]
    },
    {
     "data": {
      "image/png": "[encoded data removed]",
      "text/plain": [
       "<Figure size 640x480 with 2 Axes>"
      ]
     },
     "metadata": {
      "needs_background": "light"
     },
     "output_type": "display_data"
    }
   ],
   "source": [
    "\n",
    "\n",
    "EphrinB2_pdb = md.load_pdb('./afdb_homo_sapiens/AF-%s-F1-model_v2.pdb'%protein_code)\n",
    "gff_trans_loc = gff_df_full[gff_df_full['feature'] == 'Transmembrane'][['start','end']]\n",
    "\n",
    "traj_contacts  = ContactFrequency(EphrinB2_pdb,cutoff=2.0)\n",
    "fig, ax = traj_contacts.residue_contacts.plot(figsize=(8, 6), dpi=80);\n",
    "plt.title('%s'%protein_code)\n",
    "\n",
    "for i in range(len(gff_trans_loc)):\n",
    "    start=gff_trans_loc['start'].iloc[i]\n",
    "    end=gff_trans_loc['end'].iloc[i]\n",
    "\n",
    "    ax.axvline(start, color='k', lw=0.5)\n",
    "    ax.axvline(end, color='k', lw=0.5)\n",
    "    ax.fill_betweenx((0,len(traj_contacts.residue_contacts.df)),start,end,color='blue',alpha=0.3)\n",
    "    ax.axhline(start, color='k', lw=0.5)\n",
    "    ax.axhline(end, color='k', lw=0.5)\n",
    "    ax.fill_between((0,len(traj_contacts.residue_contacts.df)),start,end,color='blue',alpha=0.3)\n",
    "fig.savefig('./plot_contact_map/%s'%protein_code) \n"
   ]
  },
  {
   "cell_type": "code",
   "execution_count": 71,
   "metadata": {},
   "outputs": [
    {
     "data": {
      "text/html": [
       "<div>\n",
       "<style scoped>\n",
       "    .dataframe tbody tr th:only-of-type {\n",
       "        vertical-align: middle;\n",
       "    }\n",
       "\n",
       "    .dataframe tbody tr th {\n",
       "        vertical-align: top;\n",
       "    }\n",
       "\n",
       "    .dataframe thead th {\n",
       "        text-align: right;\n",
       "    }\n",
       "</style>\n",
       "<table border=\"1\" class=\"dataframe\">\n",
       "  <thead>\n",
       "    <tr style=\"text-align: right;\">\n",
       "      <th></th>\n",
       "      <th>start</th>\n",
       "      <th>end</th>\n",
       "    </tr>\n",
       "  </thead>\n",
       "  <tbody>\n",
       "    <tr>\n",
       "      <th>2</th>\n",
       "      <td>163</td>\n",
       "      <td>183</td>\n",
       "    </tr>\n",
       "    <tr>\n",
       "      <th>4</th>\n",
       "      <td>206</td>\n",
       "      <td>226</td>\n",
       "    </tr>\n",
       "  </tbody>\n",
       "</table>\n",
       "</div>"
      ],
      "text/plain": [
       "   start  end\n",
       "2    163  183\n",
       "4    206  226"
      ]
     },
     "execution_count": 71,
     "metadata": {},
     "output_type": "execute_result"
    }
   ],
   "source": [
    "gff_trans_loc"
   ]
  },
  {
   "cell_type": "code",
   "execution_count": 74,
   "metadata": {},
   "outputs": [
    {
     "name": "stdout",
     "output_type": "stream",
     "text": [
      "(183, 206)\n",
      "(226, 238)\n"
     ]
    }
   ],
   "source": [
    "for i in range(len(gff_trans_loc)):\n",
    "    try:\n",
    "        outside_regions = (gff_trans_loc['end'].iloc[i], gff_trans_loc['start'].iloc[i+1])\n",
    "    except:\n",
    "        outside_regions = (gff_trans_loc['end'].iloc[i],len(fast_seq))\n",
    "    print(outside_regions)"
   ]
  },
  {
   "cell_type": "code",
   "execution_count": null,
   "metadata": {},
   "outputs": [],
   "source": [
    "for i in range(len(gff_trans_loc)):\n",
    "    try:\n",
    "        inside_regions = (gff_trans_loc['end'].iloc[i], gff_trans_loc['start'].iloc[i+1])\n",
    "    except:\n",
    "        inside_regions = (gff_trans_loc['end'].iloc[i],len(fast_seq))\n",
    "    print(outside_regions)"
   ]
  }
 ],
 "metadata": {
  "interpreter": {
   "hash": "3247f7d4635bb288d9e06d3deacee818856115b2677ccfdf5a578edab993fe5f"
  },
  "kernelspec": {
   "display_name": "Python 3.8.11 ('base')",
   "language": "python",
   "name": "python3"
  },
  "language_info": {
   "codemirror_mode": {
    "name": "ipython",
    "version": 3
   },
   "file_extension": ".py",
   "mimetype": "text/x-python",
   "name": "python",
   "nbconvert_exporter": "python",
   "pygments_lexer": "ipython3",
   "version": "3.8.11"
  },
  "orig_nbformat": 4
 },
 "nbformat": 4,
 "nbformat_minor": 2
}
